{
  "nbformat": 4,
  "nbformat_minor": 0,
  "metadata": {
    "colab": {
      "name": "numpy.ipynb",
      "provenance": [],
      "collapsed_sections": [],
      "include_colab_link": true
    },
    "kernelspec": {
      "name": "python3",
      "display_name": "Python 3"
    }
  },
  "cells": [
    {
      "cell_type": "markdown",
      "metadata": {
        "id": "view-in-github",
        "colab_type": "text"
      },
      "source": [
        "<a href=\"https://colab.research.google.com/github/vishalk2899/Tensorflow/blob/master/numpy.ipynb\" target=\"_parent\"><img src=\"https://colab.research.google.com/assets/colab-badge.svg\" alt=\"Open In Colab\"/></a>"
      ]
    },
    {
      "cell_type": "code",
      "metadata": {
        "id": "4fHiJSkCdHgW",
        "colab_type": "code",
        "colab": {
          "base_uri": "https://localhost:8080/",
          "height": 101
        },
        "outputId": "149f105e-0d15-4953-b357-2bb9e19945da"
      },
      "source": [
        "import numpy as np\n",
        "list  = [1,2,3,4]\n",
        "type(np.array(list))\n",
        "arr   = np.array(list)\n",
        "arr\n",
        "\n",
        "np.arange(0,10,2)\n",
        "np.zeros(6)\n",
        "np.zeros((2,5))\n",
        "np.zeros((2,5,3))\n",
        "np.ones((3,5))\n",
        "np.linspace(0,10,9)\n",
        "np.random.randint(0,10,(2,4))\n",
        "\n",
        "np.random.seed(101)\n",
        "np.random.randint(0,100,10)\n",
        "\n",
        "np.random.seed(101)\n",
        "arr = np.random.randint(0,100,10)\n",
        "arr\n",
        "arr.max()\n",
        "arr.min()\n",
        "arr.argmax()\n",
        "arr.reshape(2,5)\n",
        "\n",
        "mat = np.arange(0,100).reshape(10,10)\n",
        "mat\n",
        "mat[0,1]\n",
        "mat[0:3,0:3]\n",
        "filter = mat > 20\n",
        "mat[filter]\n",
        "\n",
        "mat[mat>20]"
      ],
      "execution_count": 62,
      "outputs": [
        {
          "output_type": "execute_result",
          "data": {
            "text/plain": [
              "array([21, 22, 23, 24, 25, 26, 27, 28, 29, 30, 31, 32, 33, 34, 35, 36, 37,\n",
              "       38, 39, 40, 41, 42, 43, 44, 45, 46, 47, 48, 49, 50, 51, 52, 53, 54,\n",
              "       55, 56, 57, 58, 59, 60, 61, 62, 63, 64, 65, 66, 67, 68, 69, 70, 71,\n",
              "       72, 73, 74, 75, 76, 77, 78, 79, 80, 81, 82, 83, 84, 85, 86, 87, 88,\n",
              "       89, 90, 91, 92, 93, 94, 95, 96, 97, 98, 99])"
            ]
          },
          "metadata": {
            "tags": []
          },
          "execution_count": 62
        }
      ]
    }
  ]
}
