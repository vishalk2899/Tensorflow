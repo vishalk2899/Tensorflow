import tensorflow as tf
hello = tf.constant("Vishal")
sess  = tf.Session()
print(sess.run(hello).decode())
s     = 'string'
x     = 'string'
